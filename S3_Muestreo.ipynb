{
 "cells": [
  {
   "cell_type": "code",
   "execution_count": 27,
   "metadata": {
    "colab": {
     "base_uri": "https://localhost:8080/",
     "height": 387
    },
    "id": "Su7jWCZnzeFJ",
    "outputId": "1ce9dfd4-b314-4c3f-95ad-5c6c18da6f51"
   },
   "outputs": [
    {
     "name": "stdout",
     "output_type": "stream",
     "text": [
      "Population Mean: 0.00909562007277113\n"
     ]
    },
    {
     "data": {
      "image/png": "[encoded data removed]",
      "text/plain": [
       "<Figure size 360x360 with 1 Axes>"
      ]
     },
     "metadata": {
      "needs_background": "light",
      "tags": []
     },
     "output_type": "display_data"
    }
   ],
   "source": [
    "import seaborn as sns\n",
    "from numpy.random import randn\n",
    "population=randn(10000)\n",
    "sns.displot(population)\n",
    "print(\"Population Mean:\",population.mean())"
   ]
  },
  {
   "cell_type": "markdown",
   "metadata": {
    "id": "pupKHoLV2UUD"
   },
   "source": [
    "**Muestreo Aleatorio**\n",
    "\n",
    "1. Recuerde en la práctica, no cononocemos la distribución de la población.\n",
    "2. Lo más natural es hacer un muestreo aleatorio. ¿De que tamaño debe ser el muestreo?, ¿Cómo puedo aproximarme a los parámetros de la distribución?"
   ]
  },
  {
   "cell_type": "code",
   "execution_count": 43,
   "metadata": {
    "colab": {
     "base_uri": "https://localhost:8080/",
     "height": 405
    },
    "id": "ipkS8-lz5hsm",
    "outputId": "66eaa30e-eda2-4b3f-a4ca-56e2313d20a7"
   },
   "outputs": [
    {
     "name": "stdout",
     "output_type": "stream",
     "text": [
      "Sample Mean: -0.2435116536991811\n"
     ]
    },
    {
     "data": {
      "text/plain": [
       "<seaborn.axisgrid.FacetGrid at 0x7f1b8ccfa950>"
      ]
     },
     "execution_count": 43,
     "metadata": {
      "tags": []
     },
     "output_type": "execute_result"
    },
    {
     "data": {
      "image/png": "[encoded data removed]",
      "text/plain": [
       "<Figure size 360x360 with 1 Axes>"
      ]
     },
     "metadata": {
      "needs_background": "light",
      "tags": []
     },
     "output_type": "display_data"
    }
   ],
   "source": [
    "s=sample(list(population),31)\n",
    "print(\"Sample Mean:\",np.array(s).mean())\n",
    "sns.displot(s)"
   ]
  },
  {
   "cell_type": "code",
   "execution_count": 45,
   "metadata": {
    "colab": {
     "base_uri": "https://localhost:8080/",
     "height": 387
    },
    "id": "_A1UezQA2aHR",
    "outputId": "7067858d-f9be-4019-86ee-1e8e5b6adc12"
   },
   "outputs": [
    {
     "name": "stdout",
     "output_type": "stream",
     "text": [
      "Samples Mean: 0.00592430873591707\n"
     ]
    },
    {
     "data": {
      "image/png": "[encoded data removed]",
      "text/plain": [
       "<Figure size 360x360 with 1 Axes>"
      ]
     },
     "metadata": {
      "needs_background": "light",
      "tags": []
     },
     "output_type": "display_data"
    }
   ],
   "source": [
    "from random import sample\n",
    "import numpy as np\n",
    "means=[]\n",
    "\n",
    "for i in range(0,1000):\n",
    "  s=sample(list(population),31)\n",
    "  m_s=np.array(s).mean()\n",
    "  means.append(m_s)\n",
    "\n",
    "sns.displot(means)\n",
    "print(\"Samples Mean:\",np.array(means).mean())\n"
   ]
  },
  {
   "cell_type": "markdown",
   "metadata": {
    "id": "lCD9B_u6-BsP"
   },
   "source": [
    "**Analysis para muestras pequeñas <30**"
   ]
  },
  {
   "cell_type": "markdown",
   "metadata": {
    "id": "XSIemBa_8g3M"
   },
   "source": [
    "**Analisis paramétrico usando la distribución de t-student**\n",
    "\n",
    "\n",
    "$\\mu_s$: Desempeño de tu algoritmo\n",
    "\n",
    "\n",
    "Puede existir estos escenarios:\n",
    "1. $\\mu_r$: Desempeño de referencia\n",
    "2. Un set  de valores obtenidos a partir de otro metodo. Ese set de valor te va a dar un desempeño $\\mu_k$\n",
    "\n",
    "En el primer caso:\n",
    "$Ho:$ $\\mu_s$-$\\mu_r$=0\n",
    "\n",
    "\n",
    "En el segundo caso:\n",
    "$Ho:$ $\\mu_s$-$\\mu_k$=0\n",
    "\n",
    "\n",
    "Usar una prueba de t-student.\n",
    "\n"
   ]
  },
  {
   "cell_type": "markdown",
   "metadata": {
    "id": "twVw5SdTGxUc"
   },
   "source": [
    "# Tarea:\n",
    "\n",
    "1. Recuerden que Bagging tiene una caracteristica: usa estimadores **homegeneos**. Cada estudiante va a implementar un ensamble tipo bagging, para eso van elegir un metodo diferente (no se repita en el curso).\n",
    "2. Cada estudiante va a presentar la solución.\n",
    "3. Van a usar el mismo conjunto de datos (usar el de titanic)"
   ]
  },
  {
   "cell_type": "markdown",
   "metadata": {
    "id": "xdN-Va3CJhFv"
   },
   "source": []
  },
  {
   "cell_type": "code",
   "execution_count": null,
   "metadata": {
    "id": "rVa0iRLQGwX-"
   },
   "outputs": [],
   "source": []
  },
  {
   "cell_type": "code",
   "execution_count": null,
   "metadata": {
    "id": "okb4vVHWCaXS"
   },
   "outputs": [],
   "source": []
  }
 ],
 "metadata": {
  "colab": {
   "name": "Muestreo.ipynb",
   "provenance": []
  },
  "kernelspec": {
   "display_name": "Python 3",
   "language": "python",
   "name": "python3"
  },
  "language_info": {
   "codemirror_mode": {
    "name": "ipython",
    "version": 3
   },
   "file_extension": ".py",
   "mimetype": "text/x-python",
   "name": "python",
   "nbconvert_exporter": "python",
   "pygments_lexer": "ipython3",
   "version": "3.8.10"
  }
 },
 "nbformat": 4,
 "nbformat_minor": 1
}
