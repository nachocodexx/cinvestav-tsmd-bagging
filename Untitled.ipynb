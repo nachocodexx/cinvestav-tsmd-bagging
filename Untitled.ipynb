{
 "cells": [
  {
   "cell_type": "code",
   "execution_count": 198,
   "id": "consecutive-battlefield",
   "metadata": {},
   "outputs": [],
   "source": [
    "import numpy as N\n",
    "import pandas as P\n",
    "import matplotlib.pyplot as M\n",
    "import sklearn as SK\n",
    "import seaborn as SB\n",
    "from sklearn.impute import SimpleImputer\n",
    "%config Completer.use_jedi = False"
   ]
  },
  {
   "cell_type": "markdown",
   "id": "photographic-surface",
   "metadata": {},
   "source": [
    "## Utils"
   ]
  },
  {
   "cell_type": "code",
   "execution_count": 132,
   "id": "experienced-intellectual",
   "metadata": {},
   "outputs": [
    {
     "data": {
      "text/plain": [
       "[1, 2, 3, 4, 5, 6, 7, 8, 9, 10]"
      ]
     },
     "execution_count": 132,
     "metadata": {},
     "output_type": "execute_result"
    }
   ],
   "source": [
    "NAN = N.nan\n",
    "def Vector(*args):\n",
    "    return N.array(args)\n",
    "def repeatFor(mapFn,**kwargs):\n",
    "    iteration_data = kwargs.get('iteration_data',[])\n",
    "    metadata       = kwargs.get('metadata',{}) \n",
    "    result         = []\n",
    "    for i in iteration_data:\n",
    "        res = mapFn(i,**{'metadata':metadata})\n",
    "        result.append(res)\n",
    "        metadata['last_result']=res\n",
    "    return result\n",
    "def merge(data,fn):\n",
    "    length = len(data)\n",
    "    res = None\n",
    "    for i,datum in enumerate(data):\n",
    "#         print(i,datum,length)\n",
    "        if(i==0):\n",
    "            res = datum\n",
    "        if(i+1 < length):\n",
    "            d1 = data[i+1]\n",
    "            res = fn(res,d1)\n",
    "    return res\n",
    "def myTransformation(value,**kwargs):\n",
    "    last_value = kwargs.get('metadata',{'last_result':0}).get('last_result',0)\n",
    "    return last_value+1\n",
    "repeatFor(myTransformation,iteration_data=list(range(10)))\n",
    "            "
   ]
  },
  {
   "cell_type": "markdown",
   "id": "accompanied-george",
   "metadata": {},
   "source": [
    "## Load dataset"
   ]
  },
  {
   "cell_type": "code",
   "execution_count": 189,
   "id": "indonesian-territory",
   "metadata": {},
   "outputs": [
    {
     "data": {
      "text/html": [
       "<div>\n",
       "<style scoped>\n",
       "    .dataframe tbody tr th:only-of-type {\n",
       "        vertical-align: middle;\n",
       "    }\n",
       "\n",
       "    .dataframe tbody tr th {\n",
       "        vertical-align: top;\n",
       "    }\n",
       "\n",
       "    .dataframe thead th {\n",
       "        text-align: right;\n",
       "    }\n",
       "</style>\n",
       "<table border=\"1\" class=\"dataframe\">\n",
       "  <thead>\n",
       "    <tr style=\"text-align: right;\">\n",
       "      <th></th>\n",
       "      <th>PassengerId</th>\n",
       "      <th>Survived</th>\n",
       "      <th>Pclass</th>\n",
       "      <th>Name</th>\n",
       "      <th>Sex</th>\n",
       "      <th>Age</th>\n",
       "      <th>SibSp</th>\n",
       "      <th>Parch</th>\n",
       "      <th>Ticket</th>\n",
       "      <th>Fare</th>\n",
       "      <th>Cabin</th>\n",
       "      <th>Embarked</th>\n",
       "    </tr>\n",
       "  </thead>\n",
       "  <tbody>\n",
       "    <tr>\n",
       "      <th>0</th>\n",
       "      <td>1</td>\n",
       "      <td>0</td>\n",
       "      <td>3</td>\n",
       "      <td>Braund, Mr. Owen Harris</td>\n",
       "      <td>male</td>\n",
       "      <td>22.0</td>\n",
       "      <td>1</td>\n",
       "      <td>0</td>\n",
       "      <td>A/5 21171</td>\n",
       "      <td>7.2500</td>\n",
       "      <td>NaN</td>\n",
       "      <td>S</td>\n",
       "    </tr>\n",
       "    <tr>\n",
       "      <th>1</th>\n",
       "      <td>2</td>\n",
       "      <td>1</td>\n",
       "      <td>1</td>\n",
       "      <td>Cumings, Mrs. John Bradley (Florence Briggs Th...</td>\n",
       "      <td>female</td>\n",
       "      <td>38.0</td>\n",
       "      <td>1</td>\n",
       "      <td>0</td>\n",
       "      <td>PC 17599</td>\n",
       "      <td>71.2833</td>\n",
       "      <td>C85</td>\n",
       "      <td>C</td>\n",
       "    </tr>\n",
       "    <tr>\n",
       "      <th>2</th>\n",
       "      <td>3</td>\n",
       "      <td>1</td>\n",
       "      <td>3</td>\n",
       "      <td>Heikkinen, Miss. Laina</td>\n",
       "      <td>female</td>\n",
       "      <td>26.0</td>\n",
       "      <td>0</td>\n",
       "      <td>0</td>\n",
       "      <td>STON/O2. 3101282</td>\n",
       "      <td>7.9250</td>\n",
       "      <td>NaN</td>\n",
       "      <td>S</td>\n",
       "    </tr>\n",
       "    <tr>\n",
       "      <th>3</th>\n",
       "      <td>4</td>\n",
       "      <td>1</td>\n",
       "      <td>1</td>\n",
       "      <td>Futrelle, Mrs. Jacques Heath (Lily May Peel)</td>\n",
       "      <td>female</td>\n",
       "      <td>35.0</td>\n",
       "      <td>1</td>\n",
       "      <td>0</td>\n",
       "      <td>113803</td>\n",
       "      <td>53.1000</td>\n",
       "      <td>C123</td>\n",
       "      <td>S</td>\n",
       "    </tr>\n",
       "  </tbody>\n",
       "</table>\n",
       "</div>"
      ],
      "text/plain": [
       "   PassengerId  Survived  Pclass  \\\n",
       "0            1         0       3   \n",
       "1            2         1       1   \n",
       "2            3         1       3   \n",
       "3            4         1       1   \n",
       "\n",
       "                                                Name     Sex   Age  SibSp  \\\n",
       "0                            Braund, Mr. Owen Harris    male  22.0      1   \n",
       "1  Cumings, Mrs. John Bradley (Florence Briggs Th...  female  38.0      1   \n",
       "2                             Heikkinen, Miss. Laina  female  26.0      0   \n",
       "3       Futrelle, Mrs. Jacques Heath (Lily May Peel)  female  35.0      1   \n",
       "\n",
       "   Parch            Ticket     Fare Cabin Embarked  \n",
       "0      0         A/5 21171   7.2500   NaN        S  \n",
       "1      0          PC 17599  71.2833   C85        C  \n",
       "2      0  STON/O2. 3101282   7.9250   NaN        S  \n",
       "3      0            113803  53.1000  C123        S  "
      ]
     },
     "execution_count": 189,
     "metadata": {},
     "output_type": "execute_result"
    }
   ],
   "source": [
    "df = P.read_csv(\"./data/titanic.csv\")\n",
    "df.head(4)"
   ]
  },
  {
   "cell_type": "markdown",
   "id": "living-destiny",
   "metadata": {},
   "source": [
    "## Pre-processing"
   ]
  },
  {
   "cell_type": "markdown",
   "id": "foster-companion",
   "metadata": {},
   "source": [
    "##### Exploring data"
   ]
  },
  {
   "cell_type": "code",
   "execution_count": 41,
   "id": "known-grade",
   "metadata": {},
   "outputs": [],
   "source": [
    "df.info()"
   ]
  },
  {
   "cell_type": "code",
   "execution_count": 40,
   "id": "charged-fisher",
   "metadata": {},
   "outputs": [],
   "source": [
    "df.describe()"
   ]
  },
  {
   "cell_type": "markdown",
   "id": "prescribed-portable",
   "metadata": {},
   "source": [
    "#### Missing values"
   ]
  },
  {
   "cell_type": "code",
   "execution_count": 64,
   "id": "given-apache",
   "metadata": {},
   "outputs": [
    {
     "data": {
      "text/plain": [
       "PassengerId      0\n",
       "Survived         0\n",
       "Pclass           0\n",
       "Name             0\n",
       "Sex              0\n",
       "Age            177\n",
       "SibSp            0\n",
       "Parch            0\n",
       "Ticket           0\n",
       "Fare             0\n",
       "Cabin          687\n",
       "Embarked         2\n",
       "dtype: int64"
      ]
     },
     "execution_count": 64,
     "metadata": {},
     "output_type": "execute_result"
    }
   ],
   "source": [
    "df.isnull().sum()"
   ]
  },
  {
   "cell_type": "code",
   "execution_count": 191,
   "id": "fluid-salvation",
   "metadata": {},
   "outputs": [],
   "source": [
    "MISSING_VALUES_COLUMNS = [\"Age\",\"Cabin\",\"Embarked\"]\n",
    "mostFrequentImp        = SimpleImputer(missing_values=NAN, strategy='most_frequent')\n",
    "data                   = df[MISSING_VALUES_COLUMNS]\n",
    "transformedData        = mostFrequentImp.fit_transform(data)\n",
    "def assignColumns(args,**kwargs):\n",
    "    i,column = args\n",
    "    metadata = kwargs.get('metadata',{})\n",
    "    data = metadata['data']\n",
    "    df = metadata['df']\n",
    "    df[column]=data[:,i]\n",
    "    return df\n",
    "df = repeatFor(assignColumns,iteration_data=enumerate(MISSING_VALUES_COLUMNS),metadata={\n",
    "    'data':transformedData,\n",
    "    'df':df\n",
    "})[-1]"
   ]
  },
  {
   "cell_type": "code",
   "execution_count": 190,
   "id": "academic-deadline",
   "metadata": {
    "code_folding": [
     3
    ]
   },
   "outputs": [
    {
     "name": "stderr",
     "output_type": "stream",
     "text": [
      "/home/nacho/.local/lib/python3.6/site-packages/sklearn/utils/validation.py:63: DataConversionWarning: A column-vector y was passed when a 1d array was expected. Please change the shape of y to (n_samples, ), for example using ravel().\n",
      "  return f(*args, **kwargs)\n"
     ]
    }
   ],
   "source": [
    "COLUMNS_TO_ENCODED = ['Sex','Cabin','Embarked']\n",
    "columns_data       = df.loc[:,COLUMNS_TO_ENCODED]\n",
    "\n",
    "def encodedFn(args,**kwargs):\n",
    "    i,column = args \n",
    "    metadata = kwargs.get('metadata',{})\n",
    "    df = metadata['df']\n",
    "    le_s =SK.preprocessing.LabelEncoder()\n",
    "    data =df[[column]]\n",
    "    new_data = le_s.fit_transform(data)\n",
    "    df[column] =  new_data\n",
    "    return df\n",
    "\n",
    "df = repeatFor(encodedFn,iteration_data = enumerate(COLUMNS_TO_ENCODED) ,metadata={'df':df})[-1]"
   ]
  },
  {
   "cell_type": "code",
   "execution_count": 193,
   "id": "confidential-preview",
   "metadata": {},
   "outputs": [],
   "source": [
    "USELESS_COLUMNS = [\"PassengerId\",\"Name\",\"Ticket\"]\n",
    "clean_df = df.drop(columns=USELESS_COLUMNS )"
   ]
  },
  {
   "cell_type": "code",
   "execution_count": 211,
   "id": "revised-davis",
   "metadata": {},
   "outputs": [],
   "source": [
    "# clean_df.shape"
   ]
  },
  {
   "cell_type": "code",
   "execution_count": 221,
   "id": "portable-rehabilitation",
   "metadata": {},
   "outputs": [
    {
     "data": {
      "text/plain": [
       "<AxesSubplot:>"
      ]
     },
     "execution_count": 221,
     "metadata": {},
     "output_type": "execute_result"
    },
    {
     "data": {
      "image/png": "[encoded data removed]",
      "text/plain": [
       "<Figure size 504x504 with 2 Axes>"
      ]
     },
     "metadata": {
      "needs_background": "light"
     },
     "output_type": "display_data"
    }
   ],
   "source": [
    "correlation_matrix = clean_df.drop(columns=[]).corr(method=\"pearson\")\n",
    "mask = N.triu(N.ones_like(correlation_matrix, dtype=bool))\n",
    "# Set up the matplotlib figure\n",
    "f, ax = M.subplots(figsize=(7, 7))\n",
    "# Generate a custom diverging colormap\n",
    "cmap = sns.diverging_palette(230, 20, as_cmap=True)\n",
    "SB.heatmap(correlation_matrix\n",
    "           ,mask=mask, \n",
    "#            cmap=cmap, vmax=.3, center=0,\n",
    "#             square=True, linewidths=.5, cbar_kws={\"shrink\": .5}\n",
    "          )"
   ]
  },
  {
   "cell_type": "markdown",
   "id": "alpha-instrument",
   "metadata": {},
   "source": [
    "##### Feature selection"
   ]
  },
  {
   "cell_type": "code",
   "execution_count": 226,
   "id": "impressed-essence",
   "metadata": {},
   "outputs": [],
   "source": [
    "columns=['Fare', 'Cabin','Sex','Pclass','Embarked']\n",
    "X = clean_df.loc[:,columns].values #predictors\n",
    "y = clean_df.loc[:,'Survived'].values #outcome"
   ]
  },
  {
   "cell_type": "code",
   "execution_count": 267,
   "id": "textile-vulnerability",
   "metadata": {},
   "outputs": [],
   "source": [
    "resample = SK.utils.resample\n",
    "N        = 10\n",
    "Ns       = [100]*N\n",
    "replaces = [True]*N\n",
    "\n",
    "def clousureFn(args,**kwargs):\n",
    "    i,n,r = args\n",
    "    data  = resample(X,replace=r,n_samples=n)\n",
    "    return  data\n",
    "datas    = repeatFor( clousureFn ,iteration_data = zip(range(10),Ns,replaces)  )\n",
    "# datas\n",
    "# Vector(*datas)\n",
    "# datas.shape"
   ]
  },
  {
   "cell_type": "code",
   "execution_count": null,
   "id": "ultimate-pursuit",
   "metadata": {},
   "outputs": [],
   "source": []
  },
  {
   "cell_type": "code",
   "execution_count": null,
   "id": "lesser-diamond",
   "metadata": {},
   "outputs": [],
   "source": []
  }
 ],
 "metadata": {
  "kernelspec": {
   "display_name": "Python 3",
   "language": "python",
   "name": "python3"
  },
  "language_info": {
   "codemirror_mode": {
    "name": "ipython",
    "version": 3
   },
   "file_extension": ".py",
   "mimetype": "text/x-python",
   "name": "python",
   "nbconvert_exporter": "python",
   "pygments_lexer": "ipython3",
   "version": "3.6.9"
  }
 },
 "nbformat": 4,
 "nbformat_minor": 5
}
